{
 "cells": [
  {
   "cell_type": "code",
   "execution_count": 2,
   "id": "00800095",
   "metadata": {},
   "outputs": [],
   "source": [
    "from datasets import load_dataset\n",
    "import pandas as pd\n",
    "import os"
   ]
  },
  {
   "cell_type": "code",
   "execution_count": 104,
   "id": "78fcd827",
   "metadata": {},
   "outputs": [],
   "source": [
    "folder_path = r'C:\\Users\\andromeda\\Desktop\\paper Writting2\\excel file'\n",
    "saved=r\"C:\\Users\\andromeda\\Desktop\\paper Writting2\\AI classifier dataset\"\n",
    "data=[]\n",
    "for x in os.listdir(folder_path):\n",
    "    file_path=os.path.join(folder_path,x)\n",
    "    df = pd.read_excel(file_path)\n",
    "    df.to_excel(os.path.join(saved,str(generate_short_hash(x, algorithm='md5'))+\".xlsx\"),index=False)"
   ]
  },
  {
   "cell_type": "code",
   "execution_count": null,
   "id": "f8aa2424",
   "metadata": {},
   "outputs": [],
   "source": []
  },
  {
   "cell_type": "code",
   "execution_count": 18,
   "id": "4f618191",
   "metadata": {},
   "outputs": [],
   "source": [
    "folder_path = r'C:\\Users\\andromeda\\Desktop\\paper Writting2\\excel file'\n",
    "\n",
    "li=['Question','Human','AI']\n",
    "data=[]\n",
    "for x in os.listdir(folder_path):\n",
    "    file_path=os.path.join(folder_path,x)\n",
    "    df = pd.read_excel(file_path)\n",
    "    for x2 in df.values:\n",
    "        data.append({\n",
    "            'id':generate_short_hash(x+str(x2[0]), algorithm='md5'),\n",
    "            'Question':x2[0],\n",
    "            'Answer':x2[1],\n",
    "            'Is_it_AI':0\n",
    "        })\n",
    "        data.append({\n",
    "            'id':generate_short_hash(x+str(x2[0]), algorithm='md5'),\n",
    "            'Question':x2[0],\n",
    "            'Answer':x2[2],\n",
    "            'Is_it_AI':1\n",
    "        })\n",
    "        \n",
    "        \n",
    "    \n",
    "    "
   ]
  },
  {
   "cell_type": "code",
   "execution_count": 19,
   "id": "426bbd6b",
   "metadata": {},
   "outputs": [
    {
     "data": {
      "text/plain": [
       "4478"
      ]
     },
     "execution_count": 19,
     "metadata": {},
     "output_type": "execute_result"
    }
   ],
   "source": [
    "len(data)"
   ]
  },
  {
   "cell_type": "code",
   "execution_count": 20,
   "id": "2f2fbc7c",
   "metadata": {},
   "outputs": [
    {
     "data": {
      "application/vnd.jupyter.widget-view+json": {
       "model_id": "da0589640fe548d2b32c29311c21f2ba",
       "version_major": 2,
       "version_minor": 0
      },
      "text/plain": [
       "Creating json from Arrow format:   0%|          | 0/5 [00:00<?, ?ba/s]"
      ]
     },
     "metadata": {},
     "output_type": "display_data"
    },
    {
     "data": {
      "text/plain": [
       "3453327"
      ]
     },
     "execution_count": 20,
     "metadata": {},
     "output_type": "execute_result"
    }
   ],
   "source": [
    "from datasets import Dataset\n",
    "df2 = pd.DataFrame.from_records(data)\n",
    "dataset = Dataset.from_pandas(df2)\n",
    "dataset.to_json(os.path.join(r\"C:\\Users\\andromeda\\Desktop\\paper Writting2\",\"dataset.jsonl\"))"
   ]
  },
  {
   "cell_type": "code",
   "execution_count": 23,
   "id": "4a25c976",
   "metadata": {},
   "outputs": [],
   "source": [
    "from datasets import load_dataset\n",
    "raw_datasets=load_dataset(\"json\", data_files=os.path.join(r\"C:\\Users\\andromeda\\Desktop\\paper Writting2\",\"dataset.jsonl\"))"
   ]
  },
  {
   "cell_type": "code",
   "execution_count": 25,
   "id": "8507db3b",
   "metadata": {},
   "outputs": [
    {
     "data": {
      "text/plain": [
       "{'id': ['026ef90d',\n",
       "  '026ef90d',\n",
       "  'd0153b03',\n",
       "  'd0153b03',\n",
       "  '7a2d2343',\n",
       "  '7a2d2343',\n",
       "  'b2a10002',\n",
       "  'b2a10002',\n",
       "  '07678af6',\n",
       "  '07678af6'],\n",
       " 'Question': ['What is Tandem network of M/M/1 queues?',\n",
       "  'What is Tandem network of M/M/1 queues?',\n",
       "  'When is sample space continuous?',\n",
       "  'When is sample space continuous?',\n",
       "  'Write short note about Continuous probability distributions.',\n",
       "  'Write short note about Continuous probability distributions.',\n",
       "  'Write short note about Choice of Sample Size.',\n",
       "  'Write short note about Choice of Sample Size.',\n",
       "  'What is Statistical Inference?',\n",
       "  'What is Statistical Inference?'],\n",
       " 'Answer': ['A tandem or series network of M/M/1 queue, according to Kendall-Lee notation, is a queuing network with each queue having 1 server where arrival process and service process is exponentially distributed.',\n",
       "  'A Tandem network of M/M/1 queues is a type of queuing system that consists of multiple single-server queues in series, or \"tandem.\" Each queue in the network represents a different stage in a process or service, and customers pass through each stage one at a time. The M/M/1 designation indicates that the network is made up of multiple queues, each of which follows the Markovian process, has a Poisson arrival process, and has an exponential service time distribution.This Tandem network of M/M/1 queues can be used to model a variety of real-world systems, such as a manufacturing process with multiple stages, a call center with multiple levels of customer service, or a transportation system with multiple stages of travel.The performance characteristics of a Tandem network of M/M/1 queues can be analyzed using a variety of techniques, such as queuing theory and Markov chain analysis. These techniques can be used to calculate important performance metrics such as system utilization, mean waiting time, and mean number of customers in the system.',\n",
       "  'When a random experiment yields a continuous interval on the real number line, such as the collection of all real numbers between 0 and 1, the sample space is continuous. The set of potential outcomes in a discrete sample space, in contrast, is a countable set, such as the set of all numbers between 1 and 10.',\n",
       "  'A sample space is considered to be continuous when the set of possible outcomes of an experiment can take on any value within a certain range, rather than a finite set of discrete values. This is typically the case when the possible outcomes are real numbers, rather than integers or other discrete values.For example, in the case of rolling a fair die, the sample space is discrete because the possible outcomes are the integers 1, 2, 3, 4, 5, and 6. On the other hand, if you were measuring the weight of an object the sample space would be continuous as the possible outcomes are a range of real numbers, say between 0 to 100.Another example would be the height of people in a country. The sample space would be continuous as the possible outcomes are range of real numbers.When the sample space is continuous, it is often represented by a probability density function (PDF) or cumulative distribution function (CDF) which can be used to calculate probabilities for different outcomes. These probabilities are often represented as areas under the curve of the PDF or CDF, rather than as discrete values.',\n",
       "  'A probability distribution where the value of a random variable X is fully open-ended. The likelihood of X assuming on any one particular value is negligible since there are an unlimited number of possible values for it. As a result, we frequently use ranges of values, such (p(X>0) = .5).',\n",
       "  'A continuous probability distribution is a probability distribution in which the sample space is continuous, meaning that the possible outcomes of the random variable can take on any value within a certain range. The most common examples of continuous probability distributions are the normal distribution (also called the Gaussian or bell curve distribution) and the uniform distribution.The normal distribution is defined by its mean and standard deviation, and it is symmetric around the mean. It is commonly used to model natural phenomena such as height, weight, and IQ scores. The uniform distribution is defined by its minimum and maximum values, and it is used to model situations where all outcomes are equally likely.Other examples of continuous probability distributions include exponential, log-normal, chi-squared, and beta distributions. These distributions are used to model various types of data and phenomena across fields such as finance, engineering, biology, and social sciences.Continuous probability distributions are typically described by probability density functions (PDF), which gives the probability of a given outcome within an interval, rather than a discrete outcome. The integral of the PDF over the entire sample space is equal to 1.',\n",
       "  'The choice of a sample size depends on the population distribution and the level of precision we want in our calculations. Generally, The normal approximation for sample mean will generally be good if sample size ≥ 30, provided the population distribution is not terribly skewed.',\n",
       "  'The choice of sample size is an important aspect of statistical sampling, as it affects the accuracy and precision of the estimates obtained from the sample. A larger sample size generally leads to more precise estimates, while a smaller sample size can lead to less precise estimates.\\nThere are a few factors to consider when choosing a sample size:\\n1.The level of precision desired: A larger sample size will generally lead to more precise estimates of the population parameters. The level of precision desired will depend on the specific research question and the context in which the research is being conducted.\\n2.The size of the population: The larger the population, the larger the sample size needs to be to achieve a given level of precision.\\n3.The sampling method used: Different sampling methods require different sample sizes to achieve a given level of precision. For example, simple random sampling requires a larger sample size than stratified or cluster sampling.\\n4.The level of confidence desired: A higher level of confidence (e.g. 95% or 99%) in the estimates requires a larger sample size than a lower level of confidence (e.g. 90%).\\nIn general, sample size calculations are based on the desired level of precision, the size of the population, the sampling method and the level of confidence desired. There are formulas and software that can help to determine the sample size based on these factors. It is important to note that a sample size that is too small can lead to imprecise and unreliable estimates, while a sample size that is too large can be costly and unnecessary.',\n",
       "  'Statistical inference is the generalizaions or predictions about a large population based on a study of a sample taken from it.',\n",
       "  'Statistical inference is the process of using data from a sample to make conclusions or predictions about a larger population. It is a fundamental aspect of statistical analysis, and it is used in a wide range of fields, including science, finance, engineering, and social science.There are two main types of statistical inference: estimation and hypothesis testing. Estimation is the process of using sample data to make inferences about population parameters, such as the mean or standard deviation. Point estimates, such as sample mean, are used to estimate population mean and interval estimates, such as confidence intervals, are used to estimate a range of possible values for the population parameter with a certain level of confidence.Hypothesis testing is the process of using sample data to test a claim or hypothesis about a population parameter. It involves specifying a null hypothesis, which represents the status quo or default assumption, and an alternative hypothesis, which represents the claim being tested. The goal is to determine whether there is enough evidence in the sample data to reject the null hypothesis in favor of the alternative hypothesis.Statistical inference relies on probability theory and statistical models. These models are used to estimate the probability of different outcomes, given certain assumptions and conditions. The assumptions and conditions of these models must be carefully considered and verified in order to ensure that the inferences made are valid and reliable.'],\n",
       " 'Is_it_AI': [0, 1, 0, 1, 0, 1, 0, 1, 0, 1]}"
      ]
     },
     "execution_count": 25,
     "metadata": {},
     "output_type": "execute_result"
    }
   ],
   "source": [
    "raw_datasets['train'][0:10]"
   ]
  },
  {
   "cell_type": "code",
   "execution_count": 8,
   "id": "e1a5c23e",
   "metadata": {},
   "outputs": [
    {
     "name": "stdout",
     "output_type": "stream",
     "text": [
      "Short MD5 hash: 65a8e27d\n",
      "Short SHA-1 hash: 0a0a9f2a67\n"
     ]
    }
   ],
   "source": [
    "import hashlib\n",
    "\n",
    "def generate_short_hash(input_string, algorithm='md5'):\n",
    "    if algorithm not in hashlib.algorithms_available:\n",
    "        raise ValueError(f\"Invalid hash algorithm '{algorithm}'\")\n",
    "\n",
    "    # Create a hash object using the specified algorithm\n",
    "    hasher = hashlib.new(algorithm)\n",
    "\n",
    "    # Convert the input string to bytes (hash functions require bytes-like objects)\n",
    "    input_bytes = input_string.encode('utf-8')\n",
    "\n",
    "    # Update the hasher with the input data\n",
    "    hasher.update(input_bytes)\n",
    "\n",
    "    # Get the hash value as a hexadecimal string\n",
    "    hash_value = hasher.hexdigest()\n",
    "\n",
    "    # Return a shorter version of the hash (first 8 characters for md5, first 10 for sha1)\n",
    "    return hash_value[:8] if algorithm == 'md5' else hash_value[:10]\n",
    "\n",
    "# Example usage\n",
    "input_string = \"Hello, World!\"\n",
    "short_md5_hash = generate_short_hash(input_string, algorithm='md5')\n",
    "short_sha1_hash = generate_short_hash(input_string, algorithm='sha1')\n",
    "print(\"Short MD5 hash:\", short_md5_hash)\n",
    "print(\"Short SHA-1 hash:\", short_sha1_hash)\n"
   ]
  },
  {
   "cell_type": "code",
   "execution_count": null,
   "id": "ffba9324",
   "metadata": {},
   "outputs": [],
   "source": []
  }
 ],
 "metadata": {
  "kernelspec": {
   "display_name": "Python 3 (ipykernel)",
   "language": "python",
   "name": "python3"
  },
  "language_info": {
   "codemirror_mode": {
    "name": "ipython",
    "version": 3
   },
   "file_extension": ".py",
   "mimetype": "text/x-python",
   "name": "python",
   "nbconvert_exporter": "python",
   "pygments_lexer": "ipython3",
   "version": "3.9.13"
  }
 },
 "nbformat": 4,
 "nbformat_minor": 5
}
